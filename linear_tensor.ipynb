{
  "cells": [
    {
      "cell_type": "markdown",
      "metadata": {
        "id": "view-in-github",
        "colab_type": "text"
      },
      "source": [
        "<a href=\"https://colab.research.google.com/github/annye/Greenhouses/blob/main/linear_tensor.ipynb\" target=\"_parent\"><img src=\"https://colab.research.google.com/assets/colab-badge.svg\" alt=\"Open In Colab\"/></a>"
      ]
    },
    {
      "cell_type": "code",
      "source": [
        "from google.colab import drive\n",
        "drive.mount('/content/drive')"
      ],
      "metadata": {
        "colab": {
          "base_uri": "https://localhost:8080/"
        },
        "id": "E7aYEBtx5Wzi",
        "outputId": "1147593a-065b-467f-f534-97e6b0d6c81f"
      },
      "id": "E7aYEBtx5Wzi",
      "execution_count": 1,
      "outputs": [
        {
          "output_type": "stream",
          "name": "stdout",
          "text": [
            "Mounted at /content/drive\n"
          ]
        }
      ]
    },
    {
      "metadata": {
        "id": "dIO_YZmisVlW",
        "outputId": "8c1d2ab3-b7cc-46b6-865d-a632e228eb46",
        "colab": {
          "base_uri": "https://localhost:8080/"
        }
      },
      "cell_type": "code",
      "source": [
        "!python3 --version\n",
        "# Tensorboard in Colab environment.\n",
        "!pip3 install tensorboardcolab\n",
        "from tensorboardcolab import *\n",
        "tbc = TensorBoardColab()"
      ],
      "execution_count": 22,
      "outputs": [
        {
          "output_type": "stream",
          "name": "stdout",
          "text": [
            "Python 3.7.13\n",
            "Looking in indexes: https://pypi.org/simple, https://us-python.pkg.dev/colab-wheels/public/simple/\n",
            "Collecting tensorboardcolab\n",
            "  Downloading tensorboardcolab-0.0.22.tar.gz (2.5 kB)\n",
            "Building wheels for collected packages: tensorboardcolab\n",
            "  Building wheel for tensorboardcolab (setup.py) ... \u001b[?25l\u001b[?25hdone\n",
            "  Created wheel for tensorboardcolab: filename=tensorboardcolab-0.0.22-py3-none-any.whl size=3859 sha256=5f8de539f7de2f41624e722729b521862f172b65b7420671492ffe25485cc2f6\n",
            "  Stored in directory: /root/.cache/pip/wheels/69/4e/4a/1c6c267395cb10edded1050df12af165d3254cfce324e80941\n",
            "Successfully built tensorboardcolab\n",
            "Installing collected packages: tensorboardcolab\n",
            "Successfully installed tensorboardcolab-0.0.22\n",
            "Wait for 8 seconds...\n",
            "TensorBoard link:\n",
            "http://2fa1-35-204-75-137.ngrok.io\n"
          ]
        }
      ],
      "id": "dIO_YZmisVlW"
    },
    {
      "cell_type": "code",
      "metadata": {
        "id": "jVW6ptjirHO4"
      },
      "source": [
        "import sys\n",
        "sys.path.insert(0,\"/out22.csv\")"
      ],
      "execution_count": 3,
      "outputs": [],
      "id": "jVW6ptjirHO4"
    },
    {
      "cell_type": "code",
      "source": [
        "import tensorflow as tf\n",
        "\n",
        "from tensorflow import keras\n",
        "from tensorflow.keras import layers\n",
        "\n",
        "print(tf.__version__)"
      ],
      "metadata": {
        "colab": {
          "base_uri": "https://localhost:8080/"
        },
        "id": "guC49eSlZWiI",
        "outputId": "7e0826ac-2319-41a6-f60e-23844caf95cf"
      },
      "id": "guC49eSlZWiI",
      "execution_count": 4,
      "outputs": [
        {
          "output_type": "stream",
          "name": "stdout",
          "text": [
            "2.8.2\n"
          ]
        }
      ]
    },
    {
      "cell_type": "code",
      "execution_count": 111,
      "id": "93c873f0",
      "metadata": {
        "id": "93c873f0"
      },
      "outputs": [],
      "source": [
        "import pandas as pd\n",
        "import numpy as np\n",
        "import matplotlib.pyplot as plt\n",
        "import seaborn as sns\n",
        "# Make NumPy printouts easier to read.\n",
        "np.set_printoptions(precision=3, suppress=True)\n",
        "import plotly.express as px\n",
        "from sklearn.metrics import accuracy_score, confusion_matrix, classification_report\n",
        "from sklearn.model_selection import train_test_split, GridSearchCV, RandomizedSearchCV, StratifiedKFold, RepeatedStratifiedKFold, KFold # HalvingGridSearchCV\n",
        "\n",
        "from sklearn.preprocessing import scale\n",
        "from sklearn.feature_selection import RFE\n",
        "\n",
        "from sklearn.model_selection import KFold\n",
        "from sklearn.model_selection import GridSearchCV\n",
        "from sklearn.pipeline import make_pipeline\n",
        "from numpy import asarray\n",
        "\n",
        "\n",
        "%matplotlib inline\n",
        "plt.style.use(\"ggplot\")  #using style ggplot\n",
        "import warnings\n",
        "warnings.filterwarnings('ignore')\n"
      ]
    },
    {
      "cell_type": "markdown",
      "id": "2cb05c89",
      "metadata": {
        "id": "2cb05c89"
      },
      "source": [
        "Read datasets"
      ]
    },
    {
      "cell_type": "code",
      "source": [
        "def get_data():\n",
        "  ''' Read dataset'''\n",
        "  df= pd.read_csv('/content/drive/MyDrive/Colab Notebooks/zero/static/out22.csv')\n",
        "  return df\n",
        "\n",
        "def split_data():\n",
        "  '''split into train and test sets'''\n",
        "  df = get_data() \n",
        "  #Divide data into test and training\n",
        "  y = df['CO2e']\n",
        "  X = df\n",
        "  X.drop(['CO2e'], axis=1, inplace=True)\n",
        "  #Split data train and test\"  \n",
        "  X_train, X_test, y_train, y_test = train_test_split (X, y, test_size = 0.25, random_state = 42)\n",
        "  print (\"Train feature shape:\", X_train.shape)\n",
        "  print(\"Train feature shape:\", X_test.shape)\n",
        "  # converting train and test dataframes to matices to creat datasets\n",
        "  X_train = X_train.astype('float32').values\n",
        "  y_test = y_test.astype('float32').values\n",
        "\n",
        "  return  X_train, X_test, y_train, y_test\n",
        "\n",
        "X_train, X_test, y_train, y_test = split_data()\n"
      ],
      "metadata": {
        "id": "1FAQlZHW6keo"
      },
      "id": "1FAQlZHW6keo",
      "execution_count": 130,
      "outputs": []
    },
    {
      "cell_type": "code",
      "source": [
        "# converting train and test dataframes to matices to creat datasets\n",
        "X_train = X_train.astype('float32').values\n",
        "y_test = y_test.astype('float32').values\n",
        "normalizer = keras.layers.Normalization()\n",
        "normalizer.adapt(X_train)"
      ],
      "metadata": {
        "id": "H12xd83BksXH"
      },
      "id": "H12xd83BksXH",
      "execution_count": 132,
      "outputs": []
    },
    {
      "cell_type": "code",
      "source": [
        "# Training the Net\n",
        "\n",
        "model = keras.models.Sequential()\n",
        "model.add(keras.layers.Dense(units=1))\n",
        "model.compile(\n",
        "    optimizer=keras.optimizers.RMSprop(lr=0.001),\n",
        "    loss = \"mean_absolute_error\",\n",
        "    metrics = [keras.metrics.RootMeanSquaredError()]\n",
        ")\n",
        "batch_size = 5\n",
        "epochs =50\n",
        "history = model.fit(x=X_train,y=y_train,batch_size=batch_size,epochs=epochs)"
      ],
      "metadata": {
        "colab": {
          "base_uri": "https://localhost:8080/"
        },
        "id": "BTsqsqN4k_X7",
        "outputId": "7e93e1e6-03ee-45f8-8aac-768a18a19cb8"
      },
      "id": "BTsqsqN4k_X7",
      "execution_count": 134,
      "outputs": [
        {
          "output_type": "stream",
          "name": "stdout",
          "text": [
            "Epoch 1/50\n",
            "186/186 [==============================] - 1s 2ms/step - loss: 104.5624 - root_mean_squared_error: 133.7266\n",
            "Epoch 2/50\n",
            "186/186 [==============================] - 0s 2ms/step - loss: 71.4093 - root_mean_squared_error: 92.7685\n",
            "Epoch 3/50\n",
            "186/186 [==============================] - 0s 2ms/step - loss: 71.0720 - root_mean_squared_error: 92.1459\n",
            "Epoch 4/50\n",
            "186/186 [==============================] - 0s 2ms/step - loss: 71.0892 - root_mean_squared_error: 91.8011\n",
            "Epoch 5/50\n",
            "186/186 [==============================] - 0s 2ms/step - loss: 70.9884 - root_mean_squared_error: 91.5761\n",
            "Epoch 6/50\n",
            "186/186 [==============================] - 0s 2ms/step - loss: 70.9266 - root_mean_squared_error: 91.3806\n",
            "Epoch 7/50\n",
            "186/186 [==============================] - 0s 2ms/step - loss: 70.7983 - root_mean_squared_error: 91.2778\n",
            "Epoch 8/50\n",
            "186/186 [==============================] - 0s 2ms/step - loss: 70.7028 - root_mean_squared_error: 91.1521\n",
            "Epoch 9/50\n",
            "186/186 [==============================] - 0s 2ms/step - loss: 70.8114 - root_mean_squared_error: 91.2610\n",
            "Epoch 10/50\n",
            "186/186 [==============================] - 0s 2ms/step - loss: 70.5368 - root_mean_squared_error: 91.0227\n",
            "Epoch 11/50\n",
            "186/186 [==============================] - 0s 2ms/step - loss: 70.6887 - root_mean_squared_error: 91.2043\n",
            "Epoch 12/50\n",
            "186/186 [==============================] - 1s 5ms/step - loss: 70.4797 - root_mean_squared_error: 90.6957\n",
            "Epoch 13/50\n",
            "186/186 [==============================] - 1s 3ms/step - loss: 70.4599 - root_mean_squared_error: 90.9772\n",
            "Epoch 14/50\n",
            "186/186 [==============================] - 0s 2ms/step - loss: 70.3680 - root_mean_squared_error: 90.6586\n",
            "Epoch 15/50\n",
            "186/186 [==============================] - 0s 2ms/step - loss: 70.5927 - root_mean_squared_error: 90.8391\n",
            "Epoch 16/50\n",
            "186/186 [==============================] - 0s 2ms/step - loss: 70.4826 - root_mean_squared_error: 90.8208\n",
            "Epoch 17/50\n",
            "186/186 [==============================] - 0s 2ms/step - loss: 70.5937 - root_mean_squared_error: 90.8704\n",
            "Epoch 18/50\n",
            "186/186 [==============================] - 0s 2ms/step - loss: 70.4269 - root_mean_squared_error: 90.8679\n",
            "Epoch 19/50\n",
            "186/186 [==============================] - 0s 2ms/step - loss: 70.3816 - root_mean_squared_error: 90.9057\n",
            "Epoch 20/50\n",
            "186/186 [==============================] - 0s 2ms/step - loss: 70.3830 - root_mean_squared_error: 90.8965\n",
            "Epoch 21/50\n",
            "186/186 [==============================] - 0s 2ms/step - loss: 70.2156 - root_mean_squared_error: 90.6604\n",
            "Epoch 22/50\n",
            "186/186 [==============================] - 0s 2ms/step - loss: 70.3086 - root_mean_squared_error: 90.6259\n",
            "Epoch 23/50\n",
            "186/186 [==============================] - 0s 2ms/step - loss: 70.3803 - root_mean_squared_error: 90.5535\n",
            "Epoch 24/50\n",
            "186/186 [==============================] - 0s 2ms/step - loss: 70.1359 - root_mean_squared_error: 90.7581\n",
            "Epoch 25/50\n",
            "186/186 [==============================] - 0s 2ms/step - loss: 70.2091 - root_mean_squared_error: 90.4951\n",
            "Epoch 26/50\n",
            "186/186 [==============================] - 0s 2ms/step - loss: 70.0560 - root_mean_squared_error: 90.3992\n",
            "Epoch 27/50\n",
            "186/186 [==============================] - 0s 2ms/step - loss: 70.0342 - root_mean_squared_error: 90.6253\n",
            "Epoch 28/50\n",
            "186/186 [==============================] - 0s 2ms/step - loss: 69.9511 - root_mean_squared_error: 90.5282\n",
            "Epoch 29/50\n",
            "186/186 [==============================] - 0s 2ms/step - loss: 70.2916 - root_mean_squared_error: 90.7402\n",
            "Epoch 30/50\n",
            "186/186 [==============================] - 0s 3ms/step - loss: 70.0693 - root_mean_squared_error: 90.3909\n",
            "Epoch 31/50\n",
            "186/186 [==============================] - 1s 4ms/step - loss: 70.0816 - root_mean_squared_error: 90.2007\n",
            "Epoch 32/50\n",
            "186/186 [==============================] - 1s 5ms/step - loss: 70.0557 - root_mean_squared_error: 90.3251\n",
            "Epoch 33/50\n",
            "186/186 [==============================] - 1s 5ms/step - loss: 70.0997 - root_mean_squared_error: 90.5800\n",
            "Epoch 34/50\n",
            "186/186 [==============================] - 1s 4ms/step - loss: 70.0294 - root_mean_squared_error: 90.2398\n",
            "Epoch 35/50\n",
            "186/186 [==============================] - 1s 4ms/step - loss: 69.7772 - root_mean_squared_error: 90.2595\n",
            "Epoch 36/50\n",
            "186/186 [==============================] - 1s 4ms/step - loss: 70.0950 - root_mean_squared_error: 90.4305\n",
            "Epoch 37/50\n",
            "186/186 [==============================] - 1s 5ms/step - loss: 69.9160 - root_mean_squared_error: 90.3774\n",
            "Epoch 38/50\n",
            "186/186 [==============================] - 1s 4ms/step - loss: 70.0504 - root_mean_squared_error: 90.2391\n",
            "Epoch 39/50\n",
            "186/186 [==============================] - 1s 3ms/step - loss: 69.8757 - root_mean_squared_error: 90.3110\n",
            "Epoch 40/50\n",
            "186/186 [==============================] - 0s 2ms/step - loss: 69.8738 - root_mean_squared_error: 90.2197\n",
            "Epoch 41/50\n",
            "186/186 [==============================] - 0s 3ms/step - loss: 69.8261 - root_mean_squared_error: 90.2014\n",
            "Epoch 42/50\n",
            "186/186 [==============================] - 0s 2ms/step - loss: 69.5876 - root_mean_squared_error: 90.1783\n",
            "Epoch 43/50\n",
            "186/186 [==============================] - 0s 2ms/step - loss: 69.8494 - root_mean_squared_error: 90.0488\n",
            "Epoch 44/50\n",
            "186/186 [==============================] - 0s 2ms/step - loss: 69.5207 - root_mean_squared_error: 90.0881\n",
            "Epoch 45/50\n",
            "186/186 [==============================] - 0s 2ms/step - loss: 69.8088 - root_mean_squared_error: 90.0822\n",
            "Epoch 46/50\n",
            "186/186 [==============================] - 0s 2ms/step - loss: 69.6347 - root_mean_squared_error: 89.8095\n",
            "Epoch 47/50\n",
            "186/186 [==============================] - 0s 2ms/step - loss: 69.7901 - root_mean_squared_error: 90.0564\n",
            "Epoch 48/50\n",
            "186/186 [==============================] - 0s 3ms/step - loss: 69.6878 - root_mean_squared_error: 89.7929\n",
            "Epoch 49/50\n",
            "186/186 [==============================] - 0s 2ms/step - loss: 69.4384 - root_mean_squared_error: 89.7337\n",
            "Epoch 50/50\n",
            "186/186 [==============================] - 0s 3ms/step - loss: 69.7014 - root_mean_squared_error: 89.9704\n"
          ]
        }
      ]
    },
    {
      "cell_type": "code",
      "source": [
        ""
      ],
      "metadata": {
        "id": "BvJtLsHmk_aj"
      },
      "id": "BvJtLsHmk_aj",
      "execution_count": null,
      "outputs": []
    },
    {
      "cell_type": "code",
      "source": [
        "trained_epochs = history.epoch\n",
        "history_df = pd.DataFrame(history.history)\n",
        "rmse = history_df[\"root_mean_squared_error\"]"
      ],
      "metadata": {
        "id": "4m1Rrfkwk_dZ"
      },
      "id": "4m1Rrfkwk_dZ",
      "execution_count": 135,
      "outputs": []
    },
    {
      "cell_type": "code",
      "source": [
        "history_df.sample(10)"
      ],
      "metadata": {
        "colab": {
          "base_uri": "https://localhost:8080/",
          "height": 363
        },
        "id": "dyVCFxPZk_f1",
        "outputId": "3aa5d27e-1157-456a-a7be-357d9be7f2bc"
      },
      "id": "dyVCFxPZk_f1",
      "execution_count": 136,
      "outputs": [
        {
          "output_type": "execute_result",
          "data": {
            "text/plain": [
              "         loss  root_mean_squared_error\n",
              "24  70.209122                90.495094\n",
              "3   71.089249                91.801064\n",
              "34  69.777206                90.259514\n",
              "30  70.081619                90.200661\n",
              "39  69.873795                90.219704\n",
              "37  70.050385                90.239120\n",
              "21  70.308617                90.625923\n",
              "28  70.291626                90.740234\n",
              "22  70.380325                90.553497\n",
              "45  69.634743                89.809509"
            ],
            "text/html": [
              "\n",
              "  <div id=\"df-febbae80-b85e-4bb2-a9ef-8a23268a227b\">\n",
              "    <div class=\"colab-df-container\">\n",
              "      <div>\n",
              "<style scoped>\n",
              "    .dataframe tbody tr th:only-of-type {\n",
              "        vertical-align: middle;\n",
              "    }\n",
              "\n",
              "    .dataframe tbody tr th {\n",
              "        vertical-align: top;\n",
              "    }\n",
              "\n",
              "    .dataframe thead th {\n",
              "        text-align: right;\n",
              "    }\n",
              "</style>\n",
              "<table border=\"1\" class=\"dataframe\">\n",
              "  <thead>\n",
              "    <tr style=\"text-align: right;\">\n",
              "      <th></th>\n",
              "      <th>loss</th>\n",
              "      <th>root_mean_squared_error</th>\n",
              "    </tr>\n",
              "  </thead>\n",
              "  <tbody>\n",
              "    <tr>\n",
              "      <th>24</th>\n",
              "      <td>70.209122</td>\n",
              "      <td>90.495094</td>\n",
              "    </tr>\n",
              "    <tr>\n",
              "      <th>3</th>\n",
              "      <td>71.089249</td>\n",
              "      <td>91.801064</td>\n",
              "    </tr>\n",
              "    <tr>\n",
              "      <th>34</th>\n",
              "      <td>69.777206</td>\n",
              "      <td>90.259514</td>\n",
              "    </tr>\n",
              "    <tr>\n",
              "      <th>30</th>\n",
              "      <td>70.081619</td>\n",
              "      <td>90.200661</td>\n",
              "    </tr>\n",
              "    <tr>\n",
              "      <th>39</th>\n",
              "      <td>69.873795</td>\n",
              "      <td>90.219704</td>\n",
              "    </tr>\n",
              "    <tr>\n",
              "      <th>37</th>\n",
              "      <td>70.050385</td>\n",
              "      <td>90.239120</td>\n",
              "    </tr>\n",
              "    <tr>\n",
              "      <th>21</th>\n",
              "      <td>70.308617</td>\n",
              "      <td>90.625923</td>\n",
              "    </tr>\n",
              "    <tr>\n",
              "      <th>28</th>\n",
              "      <td>70.291626</td>\n",
              "      <td>90.740234</td>\n",
              "    </tr>\n",
              "    <tr>\n",
              "      <th>22</th>\n",
              "      <td>70.380325</td>\n",
              "      <td>90.553497</td>\n",
              "    </tr>\n",
              "    <tr>\n",
              "      <th>45</th>\n",
              "      <td>69.634743</td>\n",
              "      <td>89.809509</td>\n",
              "    </tr>\n",
              "  </tbody>\n",
              "</table>\n",
              "</div>\n",
              "      <button class=\"colab-df-convert\" onclick=\"convertToInteractive('df-febbae80-b85e-4bb2-a9ef-8a23268a227b')\"\n",
              "              title=\"Convert this dataframe to an interactive table.\"\n",
              "              style=\"display:none;\">\n",
              "        \n",
              "  <svg xmlns=\"http://www.w3.org/2000/svg\" height=\"24px\"viewBox=\"0 0 24 24\"\n",
              "       width=\"24px\">\n",
              "    <path d=\"M0 0h24v24H0V0z\" fill=\"none\"/>\n",
              "    <path d=\"M18.56 5.44l.94 2.06.94-2.06 2.06-.94-2.06-.94-.94-2.06-.94 2.06-2.06.94zm-11 1L8.5 8.5l.94-2.06 2.06-.94-2.06-.94L8.5 2.5l-.94 2.06-2.06.94zm10 10l.94 2.06.94-2.06 2.06-.94-2.06-.94-.94-2.06-.94 2.06-2.06.94z\"/><path d=\"M17.41 7.96l-1.37-1.37c-.4-.4-.92-.59-1.43-.59-.52 0-1.04.2-1.43.59L10.3 9.45l-7.72 7.72c-.78.78-.78 2.05 0 2.83L4 21.41c.39.39.9.59 1.41.59.51 0 1.02-.2 1.41-.59l7.78-7.78 2.81-2.81c.8-.78.8-2.07 0-2.86zM5.41 20L4 18.59l7.72-7.72 1.47 1.35L5.41 20z\"/>\n",
              "  </svg>\n",
              "      </button>\n",
              "      \n",
              "  <style>\n",
              "    .colab-df-container {\n",
              "      display:flex;\n",
              "      flex-wrap:wrap;\n",
              "      gap: 12px;\n",
              "    }\n",
              "\n",
              "    .colab-df-convert {\n",
              "      background-color: #E8F0FE;\n",
              "      border: none;\n",
              "      border-radius: 50%;\n",
              "      cursor: pointer;\n",
              "      display: none;\n",
              "      fill: #1967D2;\n",
              "      height: 32px;\n",
              "      padding: 0 0 0 0;\n",
              "      width: 32px;\n",
              "    }\n",
              "\n",
              "    .colab-df-convert:hover {\n",
              "      background-color: #E2EBFA;\n",
              "      box-shadow: 0px 1px 2px rgba(60, 64, 67, 0.3), 0px 1px 3px 1px rgba(60, 64, 67, 0.15);\n",
              "      fill: #174EA6;\n",
              "    }\n",
              "\n",
              "    [theme=dark] .colab-df-convert {\n",
              "      background-color: #3B4455;\n",
              "      fill: #D2E3FC;\n",
              "    }\n",
              "\n",
              "    [theme=dark] .colab-df-convert:hover {\n",
              "      background-color: #434B5C;\n",
              "      box-shadow: 0px 1px 3px 1px rgba(0, 0, 0, 0.15);\n",
              "      filter: drop-shadow(0px 1px 2px rgba(0, 0, 0, 0.3));\n",
              "      fill: #FFFFFF;\n",
              "    }\n",
              "  </style>\n",
              "\n",
              "      <script>\n",
              "        const buttonEl =\n",
              "          document.querySelector('#df-febbae80-b85e-4bb2-a9ef-8a23268a227b button.colab-df-convert');\n",
              "        buttonEl.style.display =\n",
              "          google.colab.kernel.accessAllowed ? 'block' : 'none';\n",
              "\n",
              "        async function convertToInteractive(key) {\n",
              "          const element = document.querySelector('#df-febbae80-b85e-4bb2-a9ef-8a23268a227b');\n",
              "          const dataTable =\n",
              "            await google.colab.kernel.invokeFunction('convertToInteractive',\n",
              "                                                     [key], {});\n",
              "          if (!dataTable) return;\n",
              "\n",
              "          const docLinkHtml = 'Like what you see? Visit the ' +\n",
              "            '<a target=\"_blank\" href=https://colab.research.google.com/notebooks/data_table.ipynb>data table notebook</a>'\n",
              "            + ' to learn more about interactive tables.';\n",
              "          element.innerHTML = '';\n",
              "          dataTable['output_type'] = 'display_data';\n",
              "          await google.colab.output.renderOutput(dataTable, element);\n",
              "          const docLink = document.createElement('div');\n",
              "          docLink.innerHTML = docLinkHtml;\n",
              "          element.appendChild(docLink);\n",
              "        }\n",
              "      </script>\n",
              "    </div>\n",
              "  </div>\n",
              "  "
            ]
          },
          "metadata": {},
          "execution_count": 136
        }
      ]
    },
    {
      "cell_type": "code",
      "source": [
        "history_df.tail()"
      ],
      "metadata": {
        "colab": {
          "base_uri": "https://localhost:8080/",
          "height": 206
        },
        "id": "89oD8nUxk_kl",
        "outputId": "a2e30cc5-e6d2-45bd-90ed-ef66cadc43b2"
      },
      "id": "89oD8nUxk_kl",
      "execution_count": 137,
      "outputs": [
        {
          "output_type": "execute_result",
          "data": {
            "text/plain": [
              "         loss  root_mean_squared_error\n",
              "45  69.634743                89.809509\n",
              "46  69.790077                90.056366\n",
              "47  69.687828                89.792923\n",
              "48  69.438370                89.733742\n",
              "49  69.701408                89.970444"
            ],
            "text/html": [
              "\n",
              "  <div id=\"df-662835eb-2cd5-43f3-a515-4e20ac9bcb7d\">\n",
              "    <div class=\"colab-df-container\">\n",
              "      <div>\n",
              "<style scoped>\n",
              "    .dataframe tbody tr th:only-of-type {\n",
              "        vertical-align: middle;\n",
              "    }\n",
              "\n",
              "    .dataframe tbody tr th {\n",
              "        vertical-align: top;\n",
              "    }\n",
              "\n",
              "    .dataframe thead th {\n",
              "        text-align: right;\n",
              "    }\n",
              "</style>\n",
              "<table border=\"1\" class=\"dataframe\">\n",
              "  <thead>\n",
              "    <tr style=\"text-align: right;\">\n",
              "      <th></th>\n",
              "      <th>loss</th>\n",
              "      <th>root_mean_squared_error</th>\n",
              "    </tr>\n",
              "  </thead>\n",
              "  <tbody>\n",
              "    <tr>\n",
              "      <th>45</th>\n",
              "      <td>69.634743</td>\n",
              "      <td>89.809509</td>\n",
              "    </tr>\n",
              "    <tr>\n",
              "      <th>46</th>\n",
              "      <td>69.790077</td>\n",
              "      <td>90.056366</td>\n",
              "    </tr>\n",
              "    <tr>\n",
              "      <th>47</th>\n",
              "      <td>69.687828</td>\n",
              "      <td>89.792923</td>\n",
              "    </tr>\n",
              "    <tr>\n",
              "      <th>48</th>\n",
              "      <td>69.438370</td>\n",
              "      <td>89.733742</td>\n",
              "    </tr>\n",
              "    <tr>\n",
              "      <th>49</th>\n",
              "      <td>69.701408</td>\n",
              "      <td>89.970444</td>\n",
              "    </tr>\n",
              "  </tbody>\n",
              "</table>\n",
              "</div>\n",
              "      <button class=\"colab-df-convert\" onclick=\"convertToInteractive('df-662835eb-2cd5-43f3-a515-4e20ac9bcb7d')\"\n",
              "              title=\"Convert this dataframe to an interactive table.\"\n",
              "              style=\"display:none;\">\n",
              "        \n",
              "  <svg xmlns=\"http://www.w3.org/2000/svg\" height=\"24px\"viewBox=\"0 0 24 24\"\n",
              "       width=\"24px\">\n",
              "    <path d=\"M0 0h24v24H0V0z\" fill=\"none\"/>\n",
              "    <path d=\"M18.56 5.44l.94 2.06.94-2.06 2.06-.94-2.06-.94-.94-2.06-.94 2.06-2.06.94zm-11 1L8.5 8.5l.94-2.06 2.06-.94-2.06-.94L8.5 2.5l-.94 2.06-2.06.94zm10 10l.94 2.06.94-2.06 2.06-.94-2.06-.94-.94-2.06-.94 2.06-2.06.94z\"/><path d=\"M17.41 7.96l-1.37-1.37c-.4-.4-.92-.59-1.43-.59-.52 0-1.04.2-1.43.59L10.3 9.45l-7.72 7.72c-.78.78-.78 2.05 0 2.83L4 21.41c.39.39.9.59 1.41.59.51 0 1.02-.2 1.41-.59l7.78-7.78 2.81-2.81c.8-.78.8-2.07 0-2.86zM5.41 20L4 18.59l7.72-7.72 1.47 1.35L5.41 20z\"/>\n",
              "  </svg>\n",
              "      </button>\n",
              "      \n",
              "  <style>\n",
              "    .colab-df-container {\n",
              "      display:flex;\n",
              "      flex-wrap:wrap;\n",
              "      gap: 12px;\n",
              "    }\n",
              "\n",
              "    .colab-df-convert {\n",
              "      background-color: #E8F0FE;\n",
              "      border: none;\n",
              "      border-radius: 50%;\n",
              "      cursor: pointer;\n",
              "      display: none;\n",
              "      fill: #1967D2;\n",
              "      height: 32px;\n",
              "      padding: 0 0 0 0;\n",
              "      width: 32px;\n",
              "    }\n",
              "\n",
              "    .colab-df-convert:hover {\n",
              "      background-color: #E2EBFA;\n",
              "      box-shadow: 0px 1px 2px rgba(60, 64, 67, 0.3), 0px 1px 3px 1px rgba(60, 64, 67, 0.15);\n",
              "      fill: #174EA6;\n",
              "    }\n",
              "\n",
              "    [theme=dark] .colab-df-convert {\n",
              "      background-color: #3B4455;\n",
              "      fill: #D2E3FC;\n",
              "    }\n",
              "\n",
              "    [theme=dark] .colab-df-convert:hover {\n",
              "      background-color: #434B5C;\n",
              "      box-shadow: 0px 1px 3px 1px rgba(0, 0, 0, 0.15);\n",
              "      filter: drop-shadow(0px 1px 2px rgba(0, 0, 0, 0.3));\n",
              "      fill: #FFFFFF;\n",
              "    }\n",
              "  </style>\n",
              "\n",
              "      <script>\n",
              "        const buttonEl =\n",
              "          document.querySelector('#df-662835eb-2cd5-43f3-a515-4e20ac9bcb7d button.colab-df-convert');\n",
              "        buttonEl.style.display =\n",
              "          google.colab.kernel.accessAllowed ? 'block' : 'none';\n",
              "\n",
              "        async function convertToInteractive(key) {\n",
              "          const element = document.querySelector('#df-662835eb-2cd5-43f3-a515-4e20ac9bcb7d');\n",
              "          const dataTable =\n",
              "            await google.colab.kernel.invokeFunction('convertToInteractive',\n",
              "                                                     [key], {});\n",
              "          if (!dataTable) return;\n",
              "\n",
              "          const docLinkHtml = 'Like what you see? Visit the ' +\n",
              "            '<a target=\"_blank\" href=https://colab.research.google.com/notebooks/data_table.ipynb>data table notebook</a>'\n",
              "            + ' to learn more about interactive tables.';\n",
              "          element.innerHTML = '';\n",
              "          dataTable['output_type'] = 'display_data';\n",
              "          await google.colab.output.renderOutput(dataTable, element);\n",
              "          const docLink = document.createElement('div');\n",
              "          docLink.innerHTML = docLinkHtml;\n",
              "          element.appendChild(docLink);\n",
              "        }\n",
              "      </script>\n",
              "    </div>\n",
              "  </div>\n",
              "  "
            ]
          },
          "metadata": {},
          "execution_count": 137
        }
      ]
    },
    {
      "cell_type": "code",
      "source": [
        "plt.plot(trained_epochs, rmse, label=\"Loss\")\n",
        "plt.legend()\n",
        "plt.ylim([rmse.min(), rmse.max()])\n",
        "plt.xlabel(\"Epoch\")\n",
        "plt.ylabel(\"Root Mean Squared Error\")"
      ],
      "metadata": {
        "colab": {
          "base_uri": "https://localhost:8080/",
          "height": 301
        },
        "id": "ct4_wWTWmSpc",
        "outputId": "2aeb8a51-1624-4141-a7c1-37675a240abd"
      },
      "id": "ct4_wWTWmSpc",
      "execution_count": 138,
      "outputs": [
        {
          "output_type": "execute_result",
          "data": {
            "text/plain": [
              "Text(0, 0.5, 'Root Mean Squared Error')"
            ]
          },
          "metadata": {},
          "execution_count": 138
        },
        {
          "output_type": "display_data",
          "data": {
            "text/plain": [
              "<Figure size 432x288 with 1 Axes>"
            ],
            "image/png": "[encoded data removed]"
          },
          "metadata": {}
        }
      ]
    },
    {
      "cell_type": "code",
      "source": [
        "prediction = model.predict(X_test)"
      ],
      "metadata": {
        "id": "VFkFjtiMman-"
      },
      "id": "VFkFjtiMman-",
      "execution_count": 139,
      "outputs": []
    },
    {
      "cell_type": "code",
      "source": [
        "plt.scatter(y_test,prediction)\n",
        "p1 = max(max(prediction), max(y_test))\n",
        "p2 = min(min(prediction), min(y_test))\n",
        "plt.plot([p1, p2], [p1, p2], 'b-')\n",
        "plt.xlabel('Distance traveled')\n",
        "plt.ylabel('CO2Emissions')\n",
        "plt.legend()"
      ],
      "metadata": {
        "colab": {
          "base_uri": "https://localhost:8080/",
          "height": 320
        },
        "id": "w0TNa3bdmark",
        "outputId": "f7dd9606-1455-4139-faa7-e4d6cfb45d3d"
      },
      "id": "w0TNa3bdmark",
      "execution_count": 140,
      "outputs": [
        {
          "output_type": "stream",
          "name": "stderr",
          "text": [
            "WARNING:matplotlib.legend:No handles with labels found to put in legend.\n"
          ]
        },
        {
          "output_type": "execute_result",
          "data": {
            "text/plain": [
              "<matplotlib.legend.Legend at 0x7f56ca6a4590>"
            ]
          },
          "metadata": {},
          "execution_count": 140
        },
        {
          "output_type": "display_data",
          "data": {
            "text/plain": [
              "<Figure size 432x288 with 1 Axes>"
            ],
            "image/png": "[encoded data removed]"
          },
          "metadata": {}
        }
      ]
    },
    {
      "cell_type": "code",
      "source": [
        ""
      ],
      "metadata": {
        "id": "Fy2Hc8m2mau4"
      },
      "id": "Fy2Hc8m2mau4",
      "execution_count": null,
      "outputs": []
    },
    {
      "cell_type": "code",
      "source": [
        ""
      ],
      "metadata": {
        "id": "fFgVxCTNmaxF"
      },
      "id": "fFgVxCTNmaxF",
      "execution_count": null,
      "outputs": []
    }
  ],
  "metadata": {
    "kernelspec": {
      "display_name": "Python 3 (ipykernel)",
      "language": "python",
      "name": "python3"
    },
    "language_info": {
      "codemirror_mode": {
        "name": "ipython",
        "version": 3
      },
      "file_extension": ".py",
      "mimetype": "text/x-python",
      "name": "python",
      "nbconvert_exporter": "python",
      "pygments_lexer": "ipython3",
      "version": "3.10.1"
    },
    "vscode": {
      "interpreter": {
        "hash": "369f2c481f4da34e4445cda3fffd2e751bd1c4d706f27375911949ba6bb62e1c"
      }
    },
    "colab": {
      "name": "linear_tensor.ipynb",
      "provenance": [],
      "background_execution": "on",
      "include_colab_link": true
    },
    "accelerator": "GPU",
    "gpuClass": "standard"
  },
  "nbformat": 4,
  "nbformat_minor": 5
}